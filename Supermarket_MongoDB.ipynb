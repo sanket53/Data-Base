{
 "cells": [
  {
   "cell_type": "code",
   "execution_count": 2,
   "metadata": {},
   "outputs": [],
   "source": [
    "# Install pymongo package\n",
    "import subprocess\n",
    "import sys\n",
    "\n",
    "def install(package):\n",
    "    subprocess.check_call([sys.executable, \"-m\", \"pip\", \"install\", package])\n",
    "    \n",
    "install(\"pymongo\")"
   ]
  },
  {
   "cell_type": "code",
   "execution_count": 4,
   "metadata": {},
   "outputs": [
    {
     "name": "stdout",
     "output_type": "stream",
     "text": [
      "['admin', 'config', 'local']\n"
     ]
    }
   ],
   "source": [
    "import pymongo\n",
    "from pymongo import MongoClient\n",
    "\n",
    "# Connect to MongoDB\n",
    "mongoclient = pymongo.MongoClient(\"mongodb://localhost:7000/\")\n",
    "\n",
    "#Check what databases exist - the output is a list of database names\n",
    "print(mongoclient.list_database_names())\n"
   ]
  },
  {
   "cell_type": "code",
   "execution_count": 5,
   "metadata": {},
   "outputs": [],
   "source": [
    "#Defining a user function to check if database exists - In MongoDB, a database is not created until it gets content. \n",
    "def check_DatabaseExists(argDBName):\n",
    "    local_dblist = mongoclient.list_database_names()\n",
    "    if argDBName in local_dblist:\n",
    "        print(\"The database \", argDBName, \" exists.\")\n",
    "    else:\n",
    "        print(\"The database \", argDBName, \" does not exist.\")\n",
    "\n",
    "#Defining a user function to check if a collection exists - In MongoDB, a collection is not created until it gets content. \n",
    "def check_CollectionExists(argDBName, argCollName, local_mydb):\n",
    "    local_collist = local_mydb.list_collection_names()\n",
    "    if argCollName in local_collist:\n",
    "        print(\"The collection \",  argCollName, \"exists in database \", argDBName)\n",
    "    else:\n",
    "        print(\"The collection \", argCollName, \" does not exist in database \", argDBName)"
   ]
  },
  {
   "cell_type": "code",
   "execution_count": 6,
   "metadata": {},
   "outputs": [
    {
     "name": "stdout",
     "output_type": "stream",
     "text": [
      "<class 'pymongo.database.Database'>\n",
      "The database  GroupB_Supermarket  does not exist.\n",
      "\n"
     ]
    }
   ],
   "source": [
    "#Create a new database       \n",
    "mydb = mongoclient[\"GroupB_Supermarket\"]\n",
    "print(type(mydb))\n",
    "\n",
    "#Check if database exists by calling function check_DatabaseExists with name of database as the arguement\n",
    "check_DatabaseExists(\"GroupB_Supermarket\")\n",
    "print()"
   ]
  },
  {
   "cell_type": "code",
   "execution_count": 7,
   "metadata": {},
   "outputs": [
    {
     "name": "stdout",
     "output_type": "stream",
     "text": [
      "[]\n"
     ]
    }
   ],
   "source": [
    "#Return a list of all collections in your database:\n",
    "print(mydb.list_collection_names())"
   ]
  },
  {
   "cell_type": "code",
   "execution_count": 8,
   "metadata": {},
   "outputs": [
    {
     "name": "stdout",
     "output_type": "stream",
     "text": [
      "<class 'pymongo.collection.Collection'>\n",
      "The collection  ProductDetails  does not exist in database  GroupB_Supermarket\n",
      "\n"
     ]
    }
   ],
   "source": [
    "#Create a new collection called \"productDetails\"\n",
    "mycol = mydb[\"ProductDetails\"]\n",
    "print(type(mycol))\n",
    "\n",
    "#Check if collection exists by calling function check_CollectionExists with the following arguements (parameters):\n",
    "#Name of database as the first arguement \n",
    "#Name of collection as the second arguement\n",
    "#mydb as the third arguement\n",
    "#In MongoDB, a collection is not created until it gets content. \n",
    "check_CollectionExists(\"GroupB_Supermarket\", \"ProductDetails\", mydb)\n",
    "print()"
   ]
  },
  {
   "cell_type": "code",
   "execution_count": 10,
   "metadata": {},
   "outputs": [],
   "source": [
    "import csv\n",
    "\n",
    "with open(\"S:\\grocery_random_data_mongo.csv\", \"r\") as csvfile:\n",
    "    reader = csv.DictReader(csvfile)\n",
    "    data = list(reader)  # Read all rows into a list of dictionaries"
   ]
  },
  {
   "cell_type": "code",
   "execution_count": 11,
   "metadata": {},
   "outputs": [],
   "source": [
    "for document in data:\n",
    "    mycol.insert_one(document)"
   ]
  },
  {
   "cell_type": "code",
   "execution_count": 12,
   "metadata": {},
   "outputs": [
    {
     "name": "stdout",
     "output_type": "stream",
     "text": [
      "{'_id': ObjectId('65fd836a7b2f6691a83bbf8c'), 'product_id': 'M10000', 'product_name': 'Pasta', 'price_in_pounds': '9.65', 'category_id': '105', 'category_name': 'Cereal & Bread', 'supermarket_id': '4', 'supermarket_name': 'Morrisons', 'image_url': 'https://example.com/products/M10000.jpg', 'description': 'Pasta from local farms', 'dietary_restrictions': '', 'nutritional_information': \"{'calories': 434, 'fat': 1.6545525114670623, 'protein': 14.407659815352256, 'carbohydrates': 24.20258901687363}\", 'Offers': 'No offers stay tuned', 'minimum_order_price': '40', 'customer_tags': 'family-friendly', 'best_before_date': '04/04/2024'}\n"
     ]
    }
   ],
   "source": [
    "#Show documents in collection \"ProductDetails\"\n",
    "'''myresult = mycol.findone()\n",
    "\n",
    "#print the result:\n",
    "for x in myresult:\n",
    "    print(x)'''\n",
    "    \n",
    "#The find_one() method returns the first occurrence in the selection.\n",
    "x = mycol.find_one()\n",
    "print(x)"
   ]
  },
  {
   "cell_type": "code",
   "execution_count": 13,
   "metadata": {},
   "outputs": [
    {
     "name": "stdout",
     "output_type": "stream",
     "text": [
      "{'_id': 'Tesco', 'minimum_order_price': '35'}\n",
      "{'_id': 'Aldi', 'minimum_order_price': '30'}\n",
      "{'_id': \"Sainsbury's\", 'minimum_order_price': '35'}\n",
      "{'_id': 'Lidl', 'minimum_order_price': '30'}\n",
      "{'_id': 'Asda', 'minimum_order_price': '30'}\n"
     ]
    }
   ],
   "source": [
    "#order price for supermarket 35 pounds and below 35 pounds\n",
    "myquery = {\"$or\":[ {\"supermarket_name\": { \"$regex\": \"^A\" }}, {\"minimum_order_price\": { \"$lte\": '35' }}]}\n",
    "\n",
    "    \n",
    "pipeline = [{\"$match\": myquery},{\"$group\": {\"_id\": \"$supermarket_name\",\"minimum_order_price\": {\"$first\": \"$minimum_order_price\"}}}]\n",
    "\n",
    "distinct_records = mycol.aggregate(pipeline)\n",
    "\n",
    "for record in distinct_records:\n",
    "    print(record)"
   ]
  },
  {
   "cell_type": "code",
   "execution_count": 15,
   "metadata": {},
   "outputs": [
    {
     "name": "stdout",
     "output_type": "stream",
     "text": [
      "{'_id': ObjectId('65fd836b7b2f6691a83bbfa0'), 'product_id': 'M10020', 'product_name': 'Juice', 'price_in_pounds': '13', 'category_id': '107', 'category_name': 'Drinks', 'supermarket_id': '4', 'supermarket_name': 'Morrisons', 'image_url': 'https://example.com/products/M10020.jpg', 'description': 'Juice from Spain', 'dietary_restrictions': '', 'nutritional_information': \"{'calories': 188, 'fat': 17.442598402535168, 'protein': 7.274222877293967, 'carbohydrates': 13.059426153420784}\", 'Offers': 'Offer Closing in 3 days', 'minimum_order_price': '40', 'customer_tags': 'affordable', 'best_before_date': '23/03/2024'}\n"
     ]
    }
   ],
   "source": [
    "#Update Price of Product\n",
    "\n",
    "myquery = { \"$and\":[ {\"supermarket_name\": \"Morrisons\"}, {\"product_name\": \"Juice\"}]}\n",
    "newvalues = { \"$set\": { \"price_in_pounds\": \"14\" } }\n",
    "\n",
    "mycol.update_one(myquery, newvalues)\n",
    "\n",
    "#print documents in the collection after the update:\n",
    "for x in mycol.find(myquery):\n",
    "    print(x)"
   ]
  },
  {
   "cell_type": "code",
   "execution_count": 32,
   "metadata": {},
   "outputs": [
    {
     "name": "stdout",
     "output_type": "stream",
     "text": [
      "[ObjectId('65fd86e27b2f6691a83bbfe1'), ObjectId('65fd86e27b2f6691a83bbfe2')] Data inserted\n"
     ]
    }
   ],
   "source": [
    "mylist1 = [\n",
    "   {\n",
    "  \"product_id\": \"P76543\",\n",
    "  \"product_name\": \"Sparkling Water\",\n",
    "  \"price_in_pounds\": \"5\",\n",
    "  \"category_id\": \"104\",\n",
    "  \"category_name\": \"Drinks\",\n",
    "  \"supermarket_id\": \"2\",\n",
    "  \"supermarket_name\": \"Tesco\",\n",
    "  \"image_url\": \"https://example.com/products/P76543.jpg\",\n",
    "  \"description\": \"Refreshing sparkling water from France\",\n",
    "  \"dietary_restrictions\": \"Vegan\",\n",
    "  \"nutritional_information\": {\n",
    "    \"calories\": 0,\n",
    "    \"fat\": 0,\n",
    "    \"protein\": 0,\n",
    "    \"carbohydrates\": 0\n",
    "  },\n",
    "  \"Offers\": \"Buy one get one free\",\n",
    "  \"minimum_order_price\": \"10\",\n",
    "  \"customer_tags\": \"budget-friendly\",\n",
    "  \"best_before_date\": \"15/06/2024\"\n",
    "},\n",
    "   {\n",
    "  \"product_id\": \"C20568\",\n",
    "  \"product_name\": \"Organic Green Tea\",\n",
    "  \"price_in_pounds\": \"8\",\n",
    "  \"category_id\": \"109\",\n",
    "  \"category_name\": \"Tea & Coffee\",\n",
    "  \"supermarket_id\": \"3\",\n",
    "  \"supermarket_name\": \"Sainsbury's\",\n",
    "  \"image_url\": \"https://example.com/products/C20568.jpg\",\n",
    "  \"description\": \"Premium organic green tea leaves sourced from Japan\",\n",
    "  \"dietary_restrictions\": \"Organic, Gluten-free\",\n",
    "  \"nutritional_information\": {\n",
    "    \"calories\": 0,\n",
    "    \"fat\": 0,\n",
    "    \"protein\": 0,\n",
    "    \"carbohydrates\": 0\n",
    "  },\n",
    "  \"Offers\": \"10% off for loyalty card holders\",\n",
    "  \"minimum_order_price\": \"15\",\n",
    "  \"customer_tags\": \"health-conscious\",\n",
    "  \"best_before_date\": \"30/09/2024\"\n",
    "}]\n",
    "\n",
    "var = mycol.insert_many(mylist1)\n",
    "\n",
    "#print list of the _id values of the inserted documents:\n",
    "print(var.inserted_ids ,\"Data inserted\")"
   ]
  },
  {
   "cell_type": "code",
   "execution_count": 33,
   "metadata": {},
   "outputs": [
    {
     "name": "stdout",
     "output_type": "stream",
     "text": [
      "1  documents deleted.\n",
      "M&S\n",
      "Lidl\n",
      "Morrisons\n",
      "Waitrose\n",
      "Asda\n",
      "Aldi\n",
      "Sainsbury's\n"
     ]
    }
   ],
   "source": [
    "myquery = { \"supermarket_name\": {\"$regex\": \"^T\"} }\n",
    "myquery2 = {}\n",
    "# Delete documents matching the query\n",
    "x = mycol.delete_many(myquery)\n",
    "print(x.deleted_count, \" documents deleted.\")\n",
    "\n",
    "# Define the aggregation pipeline\n",
    "pipeline = [\n",
    "    {\"$match\": myquery2},  # Use an empty dictionary to match all documents\n",
    "    {\"$group\": {\"_id\": \"$supermarket_name\"}}  # Group by supermarket_name\n",
    "]\n",
    "\n",
    "# Execute the aggregation pipeline\n",
    "distinct_records = mycol.aggregate(pipeline)\n",
    "\n",
    "# Display distinct supermarket_names\n",
    "for record in distinct_records:\n",
    "    print(record['_id'])"
   ]
  },
  {
   "cell_type": "code",
   "execution_count": 34,
   "metadata": {},
   "outputs": [
    {
     "name": "stdout",
     "output_type": "stream",
     "text": [
      "The collection  ProductDetails  does not exist in database  GroupB_Supermarket\n"
     ]
    }
   ],
   "source": [
    "#Python MongoDB Drop Collection - You can delete a collection by using the drop() method. All deleted indexes\n",
    "mycol.drop()\n",
    "\n",
    "#Check if the collection exists by calling the user function defined earlier\n",
    "check_CollectionExists(\"GroupB_Supermarket\", \"ProductDetails\", mydb)"
   ]
  },
  {
   "cell_type": "code",
   "execution_count": 35,
   "metadata": {},
   "outputs": [
    {
     "name": "stdout",
     "output_type": "stream",
     "text": [
      "The database  GroupB_Supermarket  does not exist.\n"
     ]
    }
   ],
   "source": [
    "#Drop database using instance of MongoClient\n",
    "mongoclient.drop_database(\"GroupB_Supermarket\")\n",
    "\n",
    "#Check to see if database exists by calling the user function defined earlier \n",
    "check_DatabaseExists(\"GroupB_Supermarket\")"
   ]
  },
  {
   "cell_type": "code",
   "execution_count": null,
   "metadata": {},
   "outputs": [],
   "source": []
  }
 ],
 "metadata": {
  "kernelspec": {
   "display_name": "Python 3 (ipykernel)",
   "language": "python",
   "name": "python3"
  },
  "language_info": {
   "codemirror_mode": {
    "name": "ipython",
    "version": 3
   },
   "file_extension": ".py",
   "mimetype": "text/x-python",
   "name": "python",
   "nbconvert_exporter": "python",
   "pygments_lexer": "ipython3",
   "version": "3.11.4"
  }
 },
 "nbformat": 4,
 "nbformat_minor": 2
}
